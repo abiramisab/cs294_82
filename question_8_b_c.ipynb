{
 "cells": [
  {
   "cell_type": "markdown",
   "id": "32a78a2c",
   "metadata": {},
   "source": [
    "# Question 8b \n",
    "\n",
    "Expand Algorithm 8 to work with more than one binary classification"
   ]
  },
  {
   "cell_type": "code",
   "execution_count": 2,
   "id": "c6224dec",
   "metadata": {},
   "outputs": [
    {
     "name": "stdout",
     "output_type": "stream",
     "text": [
      "Memory-equivalent capacity: 10.287712379549449\n"
     ]
    }
   ],
   "source": [
    "import numpy as np\n",
    "from math import log2\n",
    "\n",
    "def memorize_multi_class(data, labels):\n",
    "    number_of_classes = len(np.unique(labels))  \n",
    "    thresholds = [0] * number_of_classes  \n",
    "    table = []\n",
    "    for i, (datum, label) in enumerate(zip(data, labels)):\n",
    "        datum_sum = sum(datum)\n",
    "        table.append((datum_sum, label))\n",
    "    sorted_table = sorted(table, key=lambda x: x[0])\n",
    "    previous_class = sorted_table[0][1]\n",
    "    for row in sorted_table:\n",
    "        current_class = row[1]\n",
    "        if current_class != previous_class:\n",
    "            thresholds[current_class] += 1\n",
    "            previous_class = current_class\n",
    "    total_thresholds = sum(thresholds)\n",
    "    min_thresholds = log2(total_thresholds + 1)\n",
    "    d = len(data[0]) \n",
    "    mec = (min_thresholds * (d + 1)) + (min_thresholds + 1)\n",
    "    return mec\n",
    "\n",
    "data = [\n",
    "    [1, 2], [2, 1], [1, 0],\n",
    "    [1, 3], [3, 1], [0, 1]\n",
    "]\n",
    "labels = [0, 1, 0, 2, 2, 1]\n",
    "\n",
    "mec = memorize_multi_class(data, labels)\n",
    "print(\"Memory-equivalent capacity:\", mec)\n"
   ]
  },
  {
   "cell_type": "markdown",
   "id": "88d545e3",
   "metadata": {},
   "source": [
    "# Question 8c \n",
    "Expand Algorithm 8 to work with regression."
   ]
  },
  {
   "cell_type": "code",
   "execution_count": 3,
   "id": "aacb1c55",
   "metadata": {},
   "outputs": [
    {
     "name": "stdout",
     "output_type": "stream",
     "text": [
      "Memory-equivalent capacity for regression: 9.0\n"
     ]
    }
   ],
   "source": [
    "import numpy as np\n",
    "from math import log2\n",
    "\n",
    "def mem_regression(data, targets, epsilon=0.1):\n",
    "    indices_sorted = np.argsort(targets)\n",
    "    data_sorted = np.array(data)[indices_sorted]\n",
    "    targets_sorted = np.array(targets)[indices_sorted]\n",
    "\n",
    "    num_segments = 0\n",
    "    d = data_sorted.shape[1]  \n",
    "    \n",
    "    last_target = targets_sorted[0]\n",
    "    for target in targets_sorted:\n",
    "        if abs(target - last_target) > epsilon:\n",
    "            num_segments += 1\n",
    "            last_target = target\n",
    "\n",
    "    thresholds = num_segments\n",
    "    minimum_thresholds = log2(thresholds + 1)\n",
    "    \n",
    "    mec = (minimum_thresholds * (d + 1)) + (minimum_thresholds + 1)\n",
    "\n",
    "    return mec\n",
    "\n",
    "data = [\n",
    "    [1, 2], [2, 1], [1, 0],\n",
    "    [1, 3], [3, 1], [0, 1]\n",
    "]\n",
    "targets = [1.2, 1.9, 0.5, 3.1, 3.0, 1.1]\n",
    "\n",
    "mec = mem_regression(data, targets, epsilon=0.5)\n",
    "print(\"Memory-equivalent capacity for regression:\", mec)\n"
   ]
  }
 ],
 "metadata": {
  "kernelspec": {
   "display_name": "Python 3 (ipykernel)",
   "language": "python",
   "name": "python3"
  },
  "language_info": {
   "codemirror_mode": {
    "name": "ipython",
    "version": 3
   },
   "file_extension": ".py",
   "mimetype": "text/x-python",
   "name": "python",
   "nbconvert_exporter": "python",
   "pygments_lexer": "ipython3",
   "version": "3.10.13"
  }
 },
 "nbformat": 4,
 "nbformat_minor": 5
}
