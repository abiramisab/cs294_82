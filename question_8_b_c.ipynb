{
 "cells": [
  {
   "cell_type": "markdown",
   "id": "32a78a2c",
   "metadata": {},
   "source": [
    "# Question 8b \n",
    "\n",
    "Expand Algorithm 8 to work with more than one binary classification"
   ]
  },
  {
   "cell_type": "code",
   "execution_count": 1,
   "id": "c6224dec",
   "metadata": {},
   "outputs": [
    {
     "name": "stdout",
     "output_type": "stream",
     "text": [
      "Memory-equivalent capacity: 10.287712379549449\n"
     ]
    }
   ],
   "source": [
    "import numpy as np\n",
    "from math import log2\n",
    "\n",
    "def memorize(data, labels):\n",
    "    num_classes = len(np.unique(labels))  \n",
    "    thresholds = [0] * num_classes  \n",
    "    table = []\n",
    "    for i, (datum, label) in enumerate(zip(data, labels)):\n",
    "        sum_datum = sum(datum)\n",
    "        table.append((sum_datum, label))\n",
    "    sorted_table = sorted(table, key=lambda x: x[0])\n",
    "    prev_class = sorted_table[0][1]\n",
    "    for row in sorted_table:\n",
    "        current_class = row[1]\n",
    "        if current_class != prev_class:\n",
    "            thresholds[current_class] += 1\n",
    "            prev_class = current_class\n",
    "    total_thresholds = sum(thresholds)\n",
    "    min_threshs = log2(total_thresholds + 1)\n",
    "    d = len(data[0]) \n",
    "    mec = (min_threshs * (d + 1)) + (min_threshs + 1)\n",
    "    return mec\n",
    "\n",
    "data = [\n",
    "    [1, 2], [2, 1], [1, 0],\n",
    "    [1, 3], [3, 1], [0, 1]\n",
    "]\n",
    "labels = [0, 1, 0, 2, 2, 1]\n",
    "\n",
    "mec = memorize(data, labels)\n",
    "print(\"Memory-equivalent capacity:\", mec)\n"
   ]
  },
  {
   "cell_type": "markdown",
   "id": "88d545e3",
   "metadata": {},
   "source": [
    "# Question 8c \n",
    "Expand Algorithm 8 to work with regression."
   ]
  },
  {
   "cell_type": "code",
   "execution_count": 3,
   "id": "aacb1c55",
   "metadata": {},
   "outputs": [
    {
     "name": "stdout",
     "output_type": "stream",
     "text": [
      "Memory-equivalent capacity for regression: 9.0\n"
     ]
    }
   ],
   "source": [
    "import numpy as np\n",
    "from math import log2\n",
    "\n",
    "def memorize_regression(data, targets, epsilon=0.1):\n",
    "    sorted_indices = np.argsort(targets)\n",
    "    sorted_data = np.array(data)[sorted_indices]\n",
    "    sorted_targets = np.array(targets)[sorted_indices]\n",
    "\n",
    "    num_segments = 0\n",
    "    d = sorted_data.shape[1]  \n",
    "    \n",
    "    last_target = sorted_targets[0]\n",
    "    for target in sorted_targets:\n",
    "        if abs(target - last_target) > epsilon:\n",
    "            num_segments += 1\n",
    "            last_target = target\n",
    "\n",
    "    thresholds = num_segments\n",
    "    min_threshs = log2(thresholds + 1)\n",
    "    \n",
    "    mec = (min_threshs * (d + 1)) + (min_threshs + 1)\n",
    "\n",
    "    return mec\n",
    "\n",
    "data = [\n",
    "    [1, 2], [2, 1], [1, 0],\n",
    "    [1, 3], [3, 1], [0, 1]\n",
    "]\n",
    "targets = [1.2, 1.9, 0.5, 3.1, 3.0, 1.1]\n",
    "\n",
    "mec = memorize_regression(data, targets, epsilon=0.5)\n",
    "print(\"Memory-equivalent capacity for regression:\", mec)\n"
   ]
  }
 ],
 "metadata": {
  "kernelspec": {
   "display_name": "Python 3 (ipykernel)",
   "language": "python",
   "name": "python3"
  },
  "language_info": {
   "codemirror_mode": {
    "name": "ipython",
    "version": 3
   },
   "file_extension": ".py",
   "mimetype": "text/x-python",
   "name": "python",
   "nbconvert_exporter": "python",
   "pygments_lexer": "ipython3",
   "version": "3.11.4"
  }
 },
 "nbformat": 4,
 "nbformat_minor": 5
}
