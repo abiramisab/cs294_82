{
 "cells": [
  {
   "cell_type": "code",
   "execution_count": 1,
   "id": "6f539cdc",
   "metadata": {},
   "outputs": [],
   "source": [
    "import tensorflow as tf\n",
    "from tensorflow.keras import datasets, layers, models\n",
    "import matplotlib.pyplot as plt\n"
   ]
  },
  {
   "cell_type": "markdown",
   "id": "25fb112b",
   "metadata": {},
   "source": [
    "For this question I first trained a model on MNIST. I used tensorflow. Then, I did hyperparameter tuning. To use the methods from class, I reduced the dataset by half randomly and again trained the model. Finally, I reduced the dataset by half randomly and did hyperparameter tuning and trained the model. I calculated the compression ratios for all of them."
   ]
  },
  {
   "cell_type": "markdown",
   "id": "f2e168f0",
   "metadata": {},
   "source": [
    "# 1) Original"
   ]
  },
  {
   "cell_type": "code",
   "execution_count": 2,
   "id": "b7e87267",
   "metadata": {},
   "outputs": [],
   "source": [
    "(train_images, train_labels), (test_images, test_labels) = datasets.mnist.load_data()\n",
    "\n",
    "train_images, test_images = train_images / 255.0, test_images / 255.0\n",
    "\n",
    "train_images = train_images[..., tf.newaxis]\n",
    "test_images = test_images[..., tf.newaxis]\n"
   ]
  },
  {
   "cell_type": "code",
   "execution_count": 3,
   "id": "f94ef422",
   "metadata": {},
   "outputs": [],
   "source": [
    "model = models.Sequential([\n",
    "    layers.Conv2D(32, (3, 3), activation='relu', input_shape=(28, 28, 1)),\n",
    "    layers.MaxPooling2D((2, 2)),\n",
    "    layers.Conv2D(64, (3, 3), activation='relu'),\n",
    "    layers.MaxPooling2D((2, 2)),\n",
    "    layers.Conv2D(64, (3, 3), activation='relu'),\n",
    "    layers.Flatten(),\n",
    "    layers.Dense(64, activation='relu'),\n",
    "    layers.Dense(10)\n",
    "])\n"
   ]
  },
  {
   "cell_type": "code",
   "execution_count": 4,
   "id": "07a2645e",
   "metadata": {},
   "outputs": [],
   "source": [
    "model.compile(optimizer='adam',\n",
    "              loss=tf.keras.losses.SparseCategoricalCrossentropy(from_logits=True),\n",
    "              metrics=['accuracy'])\n"
   ]
  },
  {
   "cell_type": "code",
   "execution_count": 5,
   "id": "1cfc4e71",
   "metadata": {},
   "outputs": [
    {
     "name": "stdout",
     "output_type": "stream",
     "text": [
      "Epoch 1/10\n",
      "1875/1875 [==============================] - 14s 7ms/step - loss: 0.1491 - accuracy: 0.9541 - val_loss: 0.0548 - val_accuracy: 0.9826\n",
      "Epoch 2/10\n",
      "1875/1875 [==============================] - 13s 7ms/step - loss: 0.0473 - accuracy: 0.9855 - val_loss: 0.0312 - val_accuracy: 0.9896\n",
      "Epoch 3/10\n",
      "1875/1875 [==============================] - 19s 10ms/step - loss: 0.0345 - accuracy: 0.9893 - val_loss: 0.0289 - val_accuracy: 0.9909\n",
      "Epoch 4/10\n",
      "1875/1875 [==============================] - 22s 12ms/step - loss: 0.0253 - accuracy: 0.9922 - val_loss: 0.0316 - val_accuracy: 0.9899\n",
      "Epoch 5/10\n",
      "1875/1875 [==============================] - 21s 11ms/step - loss: 0.0212 - accuracy: 0.9935 - val_loss: 0.0379 - val_accuracy: 0.9876\n",
      "Epoch 6/10\n",
      "1875/1875 [==============================] - 21s 11ms/step - loss: 0.0163 - accuracy: 0.9947 - val_loss: 0.0292 - val_accuracy: 0.9908\n",
      "Epoch 7/10\n",
      "1875/1875 [==============================] - 23s 12ms/step - loss: 0.0130 - accuracy: 0.9959 - val_loss: 0.0279 - val_accuracy: 0.9921\n",
      "Epoch 8/10\n",
      "1875/1875 [==============================] - 21s 11ms/step - loss: 0.0120 - accuracy: 0.9959 - val_loss: 0.0266 - val_accuracy: 0.9919\n",
      "Epoch 9/10\n",
      "1875/1875 [==============================] - 22s 12ms/step - loss: 0.0101 - accuracy: 0.9969 - val_loss: 0.0370 - val_accuracy: 0.9901\n",
      "Epoch 10/10\n",
      "1875/1875 [==============================] - 22s 12ms/step - loss: 0.0093 - accuracy: 0.9969 - val_loss: 0.0347 - val_accuracy: 0.9908\n"
     ]
    }
   ],
   "source": [
    "history = model.fit(train_images, train_labels, epochs=10, \n",
    "                    validation_data=(test_images, test_labels))\n"
   ]
  },
  {
   "cell_type": "code",
   "execution_count": 6,
   "id": "c47bef5d",
   "metadata": {},
   "outputs": [
    {
     "name": "stdout",
     "output_type": "stream",
     "text": [
      "313/313 - 1s - loss: 0.0347 - accuracy: 0.9908 - 668ms/epoch - 2ms/step\n",
      "\n",
      "Test accuracy: 0.9908000230789185\n"
     ]
    }
   ],
   "source": [
    "test_loss, test_acc = model.evaluate(test_images,  test_labels, verbose=2)\n",
    "print('\\nTest accuracy:', test_acc)\n"
   ]
  },
  {
   "cell_type": "code",
   "execution_count": 23,
   "id": "946f81c0",
   "metadata": {},
   "outputs": [],
   "source": [
    "input_dim = (28, 28, 1)\n",
    "\n",
    "X_train=train_images.reshape(train_images.shape[0], train_images.shape[1], train_images.shape[2], 1)\n",
    "X_train=X_train / 255.0\n",
    "X_test = test_images.reshape(test_images.shape[0], test_images.shape[1], test_images.shape[2], 1)\n",
    "X_test=X_test/255.0"
   ]
  },
  {
   "cell_type": "code",
   "execution_count": 55,
   "id": "d983938d",
   "metadata": {},
   "outputs": [
    {
     "name": "stdout",
     "output_type": "stream",
     "text": [
      "The original dataset compression ratio is: 119.03316326530613\n",
      "\n",
      "The original dataset compression ratio after last layer: 27.591836734693878\n",
      "\n",
      "The original dataset total compression ratio is: 0.36\n",
      "[27.591836734693878, 1.4319526627218935, 0.36]\n",
      "\n",
      "Compression Ratio for Conv2D layer of Original Dataset 1: 27.59\n",
      "Compression Ratio for Conv2D layer of Original Dataset 2: 1.43\n",
      "Compression Ratio for Conv2D layer of Original Dataset 3: 0.36\n"
     ]
    }
   ],
   "source": [
    "import numpy as np\n",
    "\n",
    "t_size = np.prod(input_dim)\n",
    "t_params = model.count_params()\n",
    "compression_ratio = t_params / t_size\n",
    "print(\"The original dataset compression ratio is:\", compression_ratio)\n",
    "print()\n",
    "\n",
    "input_size = np.prod(input_dim)\n",
    "output_size = np.prod(model.layers[-8].output_shape[1:])  \n",
    "t_params = model.count_params()\n",
    "compression_ratio = output_size / input_size\n",
    "print(\"The original dataset compression ratio after last layer:\", compression_ratio)\n",
    "print()\n",
    "\n",
    "compression_layer_ratios = []\n",
    "for layer in model.layers:\n",
    "    if isinstance(layer, tf.keras.layers.Conv2D):\n",
    "        input_size = np.prod(layer.input_shape[1:])\n",
    "        output_size = np.prod(layer.output_shape[1:])\n",
    "        compression_ratio_layer = output_size / input_size\n",
    "        compression_layer_ratios.append(compression_ratio_layer)\n",
    "\n",
    "total_cr = np.prod(compression_ratio_layer)\n",
    "print(\"The original dataset total compression ratio is:\", total_cr)\n",
    "print(compression_layer_ratios)\n",
    "print()\n",
    "for i, ratio in enumerate(compression_layer_ratios):\n",
    "    print(f\"Compression Ratio for Conv2D layer of Original Dataset {i+1}: {ratio:.2f}\")"
   ]
  },
  {
   "cell_type": "markdown",
   "id": "ee1b7109",
   "metadata": {},
   "source": [
    "## 2) Now changing hyperparameters:"
   ]
  },
  {
   "cell_type": "code",
   "execution_count": 32,
   "id": "5075bd24",
   "metadata": {},
   "outputs": [
    {
     "name": "stdout",
     "output_type": "stream",
     "text": [
      "Epoch 1/15\n",
      "1875/1875 [==============================] - 22s 12ms/step - loss: 0.1134 - accuracy: 0.9644 - val_loss: 0.0415 - val_accuracy: 0.9866\n",
      "Epoch 2/15\n",
      "1875/1875 [==============================] - 30s 16ms/step - loss: 0.0397 - accuracy: 0.9875 - val_loss: 0.0289 - val_accuracy: 0.9906\n",
      "Epoch 3/15\n",
      "1875/1875 [==============================] - 37s 20ms/step - loss: 0.0275 - accuracy: 0.9915 - val_loss: 0.0323 - val_accuracy: 0.9895\n",
      "Epoch 4/15\n",
      "1875/1875 [==============================] - 40s 21ms/step - loss: 0.0211 - accuracy: 0.9932 - val_loss: 0.0241 - val_accuracy: 0.9919\n",
      "Epoch 5/15\n",
      "1875/1875 [==============================] - 41s 22ms/step - loss: 0.0157 - accuracy: 0.9950 - val_loss: 0.0328 - val_accuracy: 0.9911\n",
      "Epoch 6/15\n",
      "1875/1875 [==============================] - 36s 19ms/step - loss: 0.0135 - accuracy: 0.9958 - val_loss: 0.0242 - val_accuracy: 0.9932\n",
      "Epoch 7/15\n",
      "1875/1875 [==============================] - 43s 23ms/step - loss: 0.0119 - accuracy: 0.9962 - val_loss: 0.0273 - val_accuracy: 0.9934\n",
      "Epoch 8/15\n",
      "1875/1875 [==============================] - 37s 20ms/step - loss: 0.0095 - accuracy: 0.9969 - val_loss: 0.0284 - val_accuracy: 0.9920\n",
      "Epoch 9/15\n",
      "1875/1875 [==============================] - 38s 20ms/step - loss: 0.0077 - accuracy: 0.9977 - val_loss: 0.0395 - val_accuracy: 0.9915\n",
      "Epoch 10/15\n",
      "1875/1875 [==============================] - 39s 21ms/step - loss: 0.0093 - accuracy: 0.9973 - val_loss: 0.0297 - val_accuracy: 0.9926\n",
      "Epoch 11/15\n",
      "1875/1875 [==============================] - 40s 21ms/step - loss: 0.0073 - accuracy: 0.9979 - val_loss: 0.0386 - val_accuracy: 0.9907\n",
      "Epoch 12/15\n",
      "1875/1875 [==============================] - 42s 22ms/step - loss: 0.0068 - accuracy: 0.9980 - val_loss: 0.0265 - val_accuracy: 0.9933\n",
      "Epoch 13/15\n",
      "1875/1875 [==============================] - 39s 21ms/step - loss: 0.0065 - accuracy: 0.9981 - val_loss: 0.0404 - val_accuracy: 0.9918\n",
      "Epoch 14/15\n",
      "1875/1875 [==============================] - 38s 20ms/step - loss: 0.0069 - accuracy: 0.9979 - val_loss: 0.0490 - val_accuracy: 0.9915\n",
      "Epoch 15/15\n",
      "1875/1875 [==============================] - 39s 21ms/step - loss: 0.0055 - accuracy: 0.9985 - val_loss: 0.0524 - val_accuracy: 0.9895\n",
      "313/313 - 3s - loss: 0.0524 - accuracy: 0.9895 - 3s/epoch - 9ms/step\n",
      "\n",
      "Modified Test accuracy: 0.9894999861717224\n"
     ]
    }
   ],
   "source": [
    "model_modified = models.Sequential([\n",
    "    layers.Conv2D(64, (3, 3), activation='relu', input_shape=(28, 28, 1)),  \n",
    "    layers.MaxPooling2D((2, 2)),\n",
    "    layers.Conv2D(128, (3, 3), activation='relu'), \n",
    "    layers.MaxPooling2D((2, 2)),\n",
    "    layers.Conv2D(128, (3, 3), activation='relu'),  \n",
    "    layers.Flatten(),\n",
    "    layers.Dense(128, activation='relu'),  \n",
    "    layers.Dense(10)\n",
    "])\n",
    "\n",
    "\n",
    "model_modified.compile(optimizer=tf.keras.optimizers.Adam(learning_rate=0.001),\n",
    "                       loss=tf.keras.losses.SparseCategoricalCrossentropy(from_logits=True),\n",
    "                       metrics=['accuracy'])\n",
    "\n",
    "history_modified = model_modified.fit(train_images, train_labels, epochs=15,  # Increased epochs\n",
    "                                      validation_data=(test_images, test_labels))\n",
    "\n",
    "test_loss_modified, test_acc_modified = model_modified.evaluate(test_images, test_labels, verbose=2)\n",
    "print('\\nModified Test accuracy:', test_acc_modified)\n"
   ]
  },
  {
   "cell_type": "code",
   "execution_count": 56,
   "id": "5e1ece7c",
   "metadata": {},
   "outputs": [
    {
     "name": "stdout",
     "output_type": "stream",
     "text": [
      "The hyperparameter tuning compression ratio is: 473.15561224489795\n",
      "\n",
      "The hyperparameter tuning compression ratio after last layer: 55.183673469387756\n",
      "\n",
      "The hyperparameter tuning total compression ratio is: 0.36\n",
      "[55.183673469387756, 1.4319526627218935, 0.36]\n",
      "\n",
      "The hyperparameter tuning compression ratio for Conv2D layer 1: 55.18\n",
      "The hyperparameter tuning compression ratio for Conv2D layer 2: 1.43\n",
      "The hyperparameter tuning compression ratio for Conv2D layer 3: 0.36\n"
     ]
    }
   ],
   "source": [
    "input_dim = (28, 28, 1)\n",
    "\n",
    "X_train=train_images.reshape(train_images.shape[0], train_images.shape[1], train_images.shape[2], 1)\n",
    "X_train=X_train / 255.0\n",
    "X_test = test_images.reshape(test_images.shape[0], test_images.shape[1], test_images.shape[2], 1)\n",
    "X_test=X_test/255.0\n",
    "\n",
    "t_size = np.prod(input_dim)\n",
    "t_params = model_modified.count_params()\n",
    "compression_ratio = t_params / t_size\n",
    "print(\"The hyperparameter tuning compression ratio is:\", compression_ratio)\n",
    "print()\n",
    "\n",
    "input_size = np.prod(input_dim)\n",
    "output_size = np.prod(model_modified.layers[-8].output_shape[1:])  \n",
    "t_params = model.count_params()\n",
    "compression_ratio = output_size / input_size\n",
    "print(\"The hyperparameter tuning compression ratio after last layer:\", compression_ratio)\n",
    "print()\n",
    "\n",
    "compression_layer_ratios = []\n",
    "for layer in model_modified.layers:\n",
    "    if isinstance(layer, tf.keras.layers.Conv2D):\n",
    "        input_size = np.prod(layer.input_shape[1:])\n",
    "        output_size = np.prod(layer.output_shape[1:])\n",
    "        compression_ratio_layer = output_size / input_size\n",
    "        compression_layer_ratios.append(compression_ratio_layer)\n",
    "\n",
    "total_cr = np.prod(compression_ratio_layer)\n",
    "print(\"The hyperparameter tuning total compression ratio is:\", total_cr)\n",
    "print(compression_layer_ratios)\n",
    "print()\n",
    "for i, ratio in enumerate(compression_layer_ratios):\n",
    "    print(f\"The hyperparameter tuning compression ratio for Conv2D layer {i+1}: {ratio:.2f}\")"
   ]
  },
  {
   "cell_type": "markdown",
   "id": "fafbd2ae",
   "metadata": {},
   "source": [
    "## 3) Now randomly deleting half of the data from the original dataset."
   ]
  },
  {
   "cell_type": "code",
   "execution_count": 37,
   "id": "7f994476",
   "metadata": {},
   "outputs": [
    {
     "name": "stdout",
     "output_type": "stream",
     "text": [
      "Reduced training set shape: (29991, 28, 28, 1)\n",
      "Reduced training labels shape: (29991,)\n",
      "Reduced test set shape: (4965, 28, 28, 1)\n",
      "Reduced test labels shape: (4965,)\n"
     ]
    }
   ],
   "source": [
    "import numpy as np\n",
    "\n",
    "(train_images, train_labels), (test_images, test_labels) = datasets.mnist.load_data()\n",
    "\n",
    "train_images = train_images / 255.0\n",
    "test_images = test_images / 255.0\n",
    "\n",
    "train_images = train_images[..., np.newaxis]\n",
    "test_images = test_images[..., np.newaxis]\n",
    "\n",
    "np.random.seed(42)  \n",
    "train_mask = np.random.rand(len(train_images)) < 0.5\n",
    "test_mask = np.random.rand(len(test_images)) < 0.5\n",
    "\n",
    "\n",
    "reduced_train_images = train_images[train_mask]\n",
    "reduced_train_labels = train_labels[train_mask]\n",
    "reduced_test_images = test_images[test_mask]\n",
    "reduced_test_labels = test_labels[test_mask]\n",
    "\n",
    "\n",
    "print(\"Reduced training set shape:\", reduced_train_images.shape)\n",
    "print(\"Reduced training labels shape:\", reduced_train_labels.shape)\n",
    "print(\"Reduced test set shape:\", reduced_test_images.shape)\n",
    "print(\"Reduced test labels shape:\", reduced_test_labels.shape)\n"
   ]
  },
  {
   "cell_type": "code",
   "execution_count": 38,
   "id": "deeef0bf",
   "metadata": {},
   "outputs": [],
   "source": [
    "reduced_train_images, reduced_test_images = reduced_train_images / 255.0, reduced_test_images / 255.0\n",
    "reduced_train_images = reduced_train_images[..., tf.newaxis]\n",
    "reduced_test_images = reduced_test_images[..., tf.newaxis]"
   ]
  },
  {
   "cell_type": "code",
   "execution_count": 39,
   "id": "1fc2ca33",
   "metadata": {},
   "outputs": [],
   "source": [
    "model = models.Sequential([\n",
    "    layers.Conv2D(32, (3, 3), activation='relu', input_shape=(28, 28, 1)),\n",
    "    layers.MaxPooling2D((2, 2)),\n",
    "    layers.Conv2D(64, (3, 3), activation='relu'),\n",
    "    layers.MaxPooling2D((2, 2)),\n",
    "    layers.Conv2D(64, (3, 3), activation='relu'),\n",
    "    layers.Flatten(),\n",
    "    layers.Dense(64, activation='relu'),\n",
    "    layers.Dense(10)\n",
    "])"
   ]
  },
  {
   "cell_type": "code",
   "execution_count": 40,
   "id": "ca6875af",
   "metadata": {},
   "outputs": [],
   "source": [
    "model.compile(optimizer='adam',\n",
    "              loss=tf.keras.losses.SparseCategoricalCrossentropy(from_logits=True),\n",
    "              metrics=['accuracy'])"
   ]
  },
  {
   "cell_type": "code",
   "execution_count": 41,
   "id": "2c46f8e0",
   "metadata": {},
   "outputs": [
    {
     "name": "stdout",
     "output_type": "stream",
     "text": [
      "Epoch 1/10\n",
      "938/938 [==============================] - 7s 8ms/step - loss: 1.0369 - accuracy: 0.6424 - val_loss: 0.4357 - val_accuracy: 0.8649\n",
      "Epoch 2/10\n",
      "938/938 [==============================] - 6s 7ms/step - loss: 0.3953 - accuracy: 0.8783 - val_loss: 0.3358 - val_accuracy: 0.9003\n",
      "Epoch 3/10\n",
      "938/938 [==============================] - 7s 7ms/step - loss: 0.3029 - accuracy: 0.9048 - val_loss: 0.2869 - val_accuracy: 0.9168\n",
      "Epoch 4/10\n",
      "938/938 [==============================] - 6s 6ms/step - loss: 0.2354 - accuracy: 0.9269 - val_loss: 0.1980 - val_accuracy: 0.9404\n",
      "Epoch 5/10\n",
      "938/938 [==============================] - 7s 8ms/step - loss: 0.1833 - accuracy: 0.9425 - val_loss: 0.1586 - val_accuracy: 0.9513\n",
      "Epoch 6/10\n",
      "938/938 [==============================] - 12s 13ms/step - loss: 0.1513 - accuracy: 0.9530 - val_loss: 0.1460 - val_accuracy: 0.9543\n",
      "Epoch 7/10\n",
      "938/938 [==============================] - 11s 12ms/step - loss: 0.1288 - accuracy: 0.9597 - val_loss: 0.1162 - val_accuracy: 0.9637\n",
      "Epoch 8/10\n",
      "938/938 [==============================] - 12s 13ms/step - loss: 0.1134 - accuracy: 0.9641 - val_loss: 0.1069 - val_accuracy: 0.9686\n",
      "Epoch 9/10\n",
      "938/938 [==============================] - 13s 13ms/step - loss: 0.1001 - accuracy: 0.9687 - val_loss: 0.0890 - val_accuracy: 0.9734\n",
      "Epoch 10/10\n",
      "938/938 [==============================] - 14s 14ms/step - loss: 0.0901 - accuracy: 0.9718 - val_loss: 0.0789 - val_accuracy: 0.9754\n"
     ]
    }
   ],
   "source": [
    "history = model.fit(reduced_train_images, reduced_train_labels, epochs=10, \n",
    "                    validation_data=(reduced_test_images, reduced_test_labels))"
   ]
  },
  {
   "cell_type": "code",
   "execution_count": 42,
   "id": "8ed37031",
   "metadata": {},
   "outputs": [
    {
     "name": "stdout",
     "output_type": "stream",
     "text": [
      "156/156 - 0s - loss: 0.0789 - accuracy: 0.9754 - 318ms/epoch - 2ms/step\n",
      "\n",
      "Test accuracy for reduced dataset: 0.9754279851913452\n"
     ]
    }
   ],
   "source": [
    "reduced_test_loss, reduced_test_acc = model.evaluate(reduced_test_images,  reduced_test_labels, verbose=2)\n",
    "print('\\nTest accuracy for reduced dataset:', reduced_test_acc)"
   ]
  },
  {
   "cell_type": "code",
   "execution_count": 57,
   "id": "e9bacc41",
   "metadata": {},
   "outputs": [
    {
     "name": "stdout",
     "output_type": "stream",
     "text": [
      "The reduced dataset compression ratio is: 119.03316326530613\n",
      "\n",
      "The reduced dataset compression ratio after last layer is: 27.591836734693878\n",
      "\n",
      "The reduced dataset total compression ratio is: 0.36\n",
      "[27.591836734693878, 1.4319526627218935, 0.36]\n",
      "\n",
      "The reduced dataset compression ratio for Conv2D layer 1: 27.59\n",
      "The reduced dataset compression ratio for Conv2D layer 2: 1.43\n",
      "The reduced dataset compression ratio for Conv2D layer 3: 0.36\n"
     ]
    }
   ],
   "source": [
    "input_dim = (28, 28, 1)\n",
    "\n",
    "X_train=reduced_train_images.reshape(reduced_train_images.shape[0], reduced_train_images.shape[1], reduced_train_images.shape[2], 1)\n",
    "X_train=X_train / 255.0\n",
    "X_test = reduced_test_images.reshape(reduced_test_images.shape[0], reduced_test_images.shape[1], reduced_test_images.shape[2], 1)\n",
    "X_test=X_test/255.0\n",
    "\n",
    "t_size = np.prod(input_dim)\n",
    "t_params = model.count_params()\n",
    "compression_ratio = t_params / t_size\n",
    "print(\"The reduced dataset compression ratio is:\", compression_ratio)\n",
    "print()\n",
    "\n",
    "input_size = np.prod(input_dim)\n",
    "output_size = np.prod(model.layers[-8].output_shape[1:])  \n",
    "t_params = model.count_params()\n",
    "compression_ratio = output_size / input_size\n",
    "print(\"The reduced dataset compression ratio after last layer is:\", compression_ratio)\n",
    "print()\n",
    "\n",
    "compression_layer_ratios = []\n",
    "for layer in model.layers:\n",
    "    if isinstance(layer, tf.keras.layers.Conv2D):\n",
    "        input_size = np.prod(layer.input_shape[1:])\n",
    "        output_size = np.prod(layer.output_shape[1:])\n",
    "        compression_ratio_layer = output_size / input_size\n",
    "        compression_layer_ratios.append(compression_ratio_layer)\n",
    "\n",
    "total_cr = np.prod(compression_ratio_layer)\n",
    "print(\"The reduced dataset total compression ratio is:\", total_cr)\n",
    "print(compression_layer_ratios)\n",
    "print()\n",
    "for i, ratio in enumerate(compression_layer_ratios):\n",
    "    print(f\"The reduced dataset compression ratio for Conv2D layer {i+1}: {ratio:.2f}\")"
   ]
  },
  {
   "cell_type": "markdown",
   "id": "6e91bf06",
   "metadata": {},
   "source": [
    "## 4) Now deleting half the data from the original dataset randomly and hyperparameter tuning"
   ]
  },
  {
   "cell_type": "code",
   "execution_count": 46,
   "id": "27cef3e5",
   "metadata": {},
   "outputs": [
    {
     "name": "stdout",
     "output_type": "stream",
     "text": [
      "Reduced training set shape: (29949, 28, 28, 1)\n",
      "Reduced training labels shape: (29949,)\n",
      "Reduced test set shape: (4988, 28, 28, 1)\n",
      "Reduced test labels shape: (4988,)\n"
     ]
    }
   ],
   "source": [
    "(train_images, train_labels), (test_images, test_labels) = datasets.mnist.load_data()\n",
    "\n",
    "train_images = train_images / 255.0\n",
    "test_images = test_images / 255.0\n",
    "\n",
    "train_images = train_images[..., np.newaxis]\n",
    "test_images = test_images[..., np.newaxis]\n",
    "\n",
    "np.random.seed(1)  \n",
    "train_mask = np.random.rand(len(train_images)) < 0.5\n",
    "test_mask = np.random.rand(len(test_images)) < 0.5\n",
    "\n",
    "reduced_train_images = train_images[train_mask]\n",
    "reduced_train_labels = train_labels[train_mask]\n",
    "reduced_test_images = test_images[test_mask]\n",
    "reduced_test_labels = test_labels[test_mask]\n",
    "\n",
    "print(\"Reduced training set shape:\", reduced_train_images.shape)\n",
    "print(\"Reduced training labels shape:\", reduced_train_labels.shape)\n",
    "print(\"Reduced test set shape:\", reduced_test_images.shape)\n",
    "print(\"Reduced test labels shape:\", reduced_test_labels.shape)"
   ]
  },
  {
   "cell_type": "code",
   "execution_count": 47,
   "id": "cbf21fc3",
   "metadata": {},
   "outputs": [],
   "source": [
    "reduced_train_images, reduced_test_images = reduced_train_images / 255.0, reduced_test_images / 255.0\n",
    "\n",
    "reduced_train_images = reduced_train_images[..., tf.newaxis]\n",
    "reduced_test_images = reduced_test_images[..., tf.newaxis]"
   ]
  },
  {
   "cell_type": "code",
   "execution_count": 48,
   "id": "989fd816",
   "metadata": {},
   "outputs": [],
   "source": [
    "model = models.Sequential([\n",
    "    layers.Conv2D(32, (3, 3), activation='relu', input_shape=(28, 28, 1)),\n",
    "    layers.MaxPooling2D((2, 2)),\n",
    "    layers.Conv2D(64, (3, 3), activation='relu'),\n",
    "    layers.MaxPooling2D((2, 2)),\n",
    "    layers.Conv2D(64, (3, 3), activation='relu'),\n",
    "    layers.Flatten(),\n",
    "    layers.Dense(64, activation='relu'),\n",
    "    layers.Dense(10)\n",
    "])"
   ]
  },
  {
   "cell_type": "code",
   "execution_count": 49,
   "id": "2863722d",
   "metadata": {},
   "outputs": [],
   "source": [
    "model.compile(optimizer='adam',\n",
    "              loss=tf.keras.losses.SparseCategoricalCrossentropy(from_logits=True),\n",
    "              metrics=['accuracy'])"
   ]
  },
  {
   "cell_type": "code",
   "execution_count": 50,
   "id": "3d295881",
   "metadata": {
    "scrolled": true
   },
   "outputs": [
    {
     "name": "stdout",
     "output_type": "stream",
     "text": [
      "Epoch 1/10\n",
      "936/936 [==============================] - 7s 7ms/step - loss: 0.9920 - accuracy: 0.6560 - val_loss: 0.4051 - val_accuracy: 0.8699\n",
      "Epoch 2/10\n",
      "936/936 [==============================] - 6s 7ms/step - loss: 0.3412 - accuracy: 0.8931 - val_loss: 0.2557 - val_accuracy: 0.9238\n",
      "Epoch 3/10\n",
      "936/936 [==============================] - 7s 7ms/step - loss: 0.2401 - accuracy: 0.9262 - val_loss: 0.1907 - val_accuracy: 0.9419\n",
      "Epoch 4/10\n",
      "936/936 [==============================] - 6s 7ms/step - loss: 0.1780 - accuracy: 0.9444 - val_loss: 0.1472 - val_accuracy: 0.9567\n",
      "Epoch 5/10\n",
      "936/936 [==============================] - 7s 7ms/step - loss: 0.1405 - accuracy: 0.9552 - val_loss: 0.1310 - val_accuracy: 0.9593\n",
      "Epoch 6/10\n",
      "936/936 [==============================] - 8s 9ms/step - loss: 0.1185 - accuracy: 0.9625 - val_loss: 0.1053 - val_accuracy: 0.9685\n",
      "Epoch 7/10\n",
      "936/936 [==============================] - 12s 13ms/step - loss: 0.1001 - accuracy: 0.9675 - val_loss: 0.1021 - val_accuracy: 0.9675\n",
      "Epoch 8/10\n",
      "936/936 [==============================] - 12s 13ms/step - loss: 0.0886 - accuracy: 0.9716 - val_loss: 0.1006 - val_accuracy: 0.9671\n",
      "Epoch 9/10\n",
      "936/936 [==============================] - 11s 12ms/step - loss: 0.0799 - accuracy: 0.9739 - val_loss: 0.0836 - val_accuracy: 0.9739\n",
      "Epoch 10/10\n",
      "936/936 [==============================] - 11s 12ms/step - loss: 0.0697 - accuracy: 0.9775 - val_loss: 0.0820 - val_accuracy: 0.9747\n"
     ]
    }
   ],
   "source": [
    "history = model.fit(reduced_train_images, reduced_train_labels, epochs=10, \n",
    "                    validation_data=(reduced_test_images, reduced_test_labels))"
   ]
  },
  {
   "cell_type": "code",
   "execution_count": 51,
   "id": "cc1e26b4",
   "metadata": {},
   "outputs": [
    {
     "name": "stdout",
     "output_type": "stream",
     "text": [
      "156/156 - 0s - loss: 0.0820 - accuracy: 0.9747 - 323ms/epoch - 2ms/step\n",
      "\n",
      "Test accuracy for reduced dataset: 0.9747393727302551\n"
     ]
    }
   ],
   "source": [
    "reduced_test_loss, reduced_test_acc = model.evaluate(reduced_test_images,  reduced_test_labels, verbose=2)\n",
    "print('\\nTest accuracy for reduced dataset:', reduced_test_acc)"
   ]
  },
  {
   "cell_type": "code",
   "execution_count": 58,
   "id": "18e3956d",
   "metadata": {},
   "outputs": [
    {
     "name": "stdout",
     "output_type": "stream",
     "text": [
      "The reduced dataset with hyperparameter tuning compression ratio is: 119.03316326530613\n",
      "\n",
      "The reduced dataset with hyperparameter tuning compression ratio is: 27.591836734693878\n",
      "\n",
      "The reduced dataset with hyperparameter tuning total compression ratio is: 0.36\n",
      "[27.591836734693878, 1.4319526627218935, 0.36]\n",
      "\n",
      "The reduced dataset with hyperparameter tuning compression ratio for Conv2D layer 1: 27.59\n",
      "The reduced dataset with hyperparameter tuning compression ratio for Conv2D layer 2: 1.43\n",
      "The reduced dataset with hyperparameter tuning compression ratio for Conv2D layer 3: 0.36\n"
     ]
    }
   ],
   "source": [
    "input_dim = (28, 28, 1)\n",
    "\n",
    "X_train=reduced_train_images.reshape(reduced_train_images.shape[0], reduced_train_images.shape[1], reduced_train_images.shape[2], 1)\n",
    "X_train=X_train / 255.0\n",
    "X_test = reduced_test_images.reshape(reduced_test_images.shape[0], reduced_test_images.shape[1], reduced_test_images.shape[2], 1)\n",
    "X_test=X_test/255.0\n",
    "\n",
    "t_size = np.prod(input_dim)\n",
    "t_params = model.count_params()\n",
    "compression_ratio = t_params / t_size\n",
    "print(\"The reduced dataset with hyperparameter tuning compression ratio is:\", compression_ratio)\n",
    "print()\n",
    "\n",
    "input_size = np.prod(input_dim)\n",
    "output_size = np.prod(model.layers[-8].output_shape[1:])  \n",
    "t_params = model.count_params()\n",
    "compression_ratio = output_size / input_size\n",
    "print(\"The reduced dataset with hyperparameter tuning compression ratio is:\", compression_ratio)\n",
    "print()\n",
    "\n",
    "compression_layer_ratios = []\n",
    "for layer in model.layers:\n",
    "    if isinstance(layer, tf.keras.layers.Conv2D):\n",
    "        input_size = np.prod(layer.input_shape[1:])\n",
    "        output_size = np.prod(layer.output_shape[1:])\n",
    "        compression_ratio_layer = output_size / input_size\n",
    "        compression_layer_ratios.append(compression_ratio_layer)\n",
    "\n",
    "total_cr = np.prod(compression_ratio_layer)\n",
    "print(\"The reduced dataset with hyperparameter tuning total compression ratio is:\", total_cr)\n",
    "print(compression_layer_ratios)\n",
    "print()\n",
    "for i, ratio in enumerate(compression_layer_ratios):\n",
    "    print(f\"The reduced dataset with hyperparameter tuning compression ratio for Conv2D layer {i+1}: {ratio:.2f}\")"
   ]
  }
 ],
 "metadata": {
  "kernelspec": {
   "display_name": "Python 3 (ipykernel)",
   "language": "python",
   "name": "python3"
  },
  "language_info": {
   "codemirror_mode": {
    "name": "ipython",
    "version": 3
   },
   "file_extension": ".py",
   "mimetype": "text/x-python",
   "name": "python",
   "nbconvert_exporter": "python",
   "pygments_lexer": "ipython3",
   "version": "3.10.13"
  }
 },
 "nbformat": 4,
 "nbformat_minor": 5
}
