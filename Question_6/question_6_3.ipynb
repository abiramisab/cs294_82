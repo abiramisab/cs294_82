{
 "cells": [
  {
   "cell_type": "markdown",
   "id": "222c2b54",
   "metadata": {},
   "source": [
    "# Question 6.3 a\n",
    "Compression:\n",
    "(a)\n",
    "Create a long random string using a Python program, and use a lossless\n",
    "compression algorithm of your choice to compress the string. Note the\n",
    "compression ratio."
   ]
  },
  {
   "cell_type": "markdown",
   "id": "4a59555d",
   "metadata": {},
   "source": [
    "For this exercise, I used Python to create a random string of length 1 million. Then I saved the string to a file. I used zip, 7z, and winzip to compress the file and get the compression ratio."
   ]
  },
  {
   "cell_type": "code",
   "execution_count": 1,
   "id": "2c62b4ba",
   "metadata": {},
   "outputs": [],
   "source": [
    "import random\n",
    "import string\n",
    "\n",
    "def generate_random_string(length):\n",
    "    characters = string.ascii_letters + string.digits + string.punctuation\n",
    "    random_string = ''.join(random.choice(characters) for i in range(length))\n",
    "    return random_string"
   ]
  },
  {
   "cell_type": "code",
   "execution_count": 8,
   "id": "c36485d3",
   "metadata": {},
   "outputs": [],
   "source": [
    "random_string_length = 1000000\n",
    "random_string = generate_random_string(random_string_length)"
   ]
  },
  {
   "cell_type": "code",
   "execution_count": 9,
   "id": "d24b1239",
   "metadata": {},
   "outputs": [],
   "source": [
    "file_name = 'random_1mil_string.txt'\n",
    "with open(file_name, 'w') as file:\n",
    "    file.write(random_string)"
   ]
  },
  {
   "cell_type": "markdown",
   "id": "635e54d3",
   "metadata": {},
   "source": [
    "For 1000000 string length, before compression 977KB, after zip 811KB"
   ]
  },
  {
   "cell_type": "markdown",
   "id": "38d0ded6",
   "metadata": {},
   "source": [
    "For 1000000 string length, before compression 977KB, after 7z 817KB"
   ]
  },
  {
   "cell_type": "markdown",
   "id": "044afa55",
   "metadata": {},
   "source": [
    "For 1000000 string length, before compression 977KB, after winzip 815KB"
   ]
  },
  {
   "cell_type": "markdown",
   "id": "501c64e3",
   "metadata": {},
   "source": [
    "\n",
    "For a string length of 1,000,000 characters:\n",
    "\n",
    "Using zip compression, the file size reduced from 977KB to 811KB, with a compression ratio of 1.2047.\n",
    "Using 7z compression, the file size reduced from 977KB to 817KB, resulting in a compression ratio of 1.1958.\n",
    "Using WinZip compression, the file size reduced from 977KB to 815KB, yielding a compression ratio of 1.1987."
   ]
  },
  {
   "cell_type": "markdown",
   "id": "c5839d08",
   "metadata": {},
   "source": [
    "# Question 6.3 b \n",
    "What is the expected compression ratio in (a)? Explain why?"
   ]
  },
  {
   "cell_type": "markdown",
   "id": "44a161eb",
   "metadata": {},
   "source": [
    "The expected compression ratio in 6.3a is 1. However, this can only occur if the string is truly random. The string that I have generated is psuedo-random. Therefore the compression ratio is close to 1 in for zip, 7z, and winzip. Note that even though the file compression algorithm used is different, the compression ratios are approximately the same, i.e., 1.2047 for zip, 1.1958 for 7z, and 1.1987 for winzip."
   ]
  }
 ],
 "metadata": {
  "kernelspec": {
   "display_name": "Python 3 (ipykernel)",
   "language": "python",
   "name": "python3"
  },
  "language_info": {
   "codemirror_mode": {
    "name": "ipython",
    "version": 3
   },
   "file_extension": ".py",
   "mimetype": "text/x-python",
   "name": "python",
   "nbconvert_exporter": "python",
   "pygments_lexer": "ipython3",
   "version": "3.11.4"
  }
 },
 "nbformat": 4,
 "nbformat_minor": 5
}
